{
 "cells": [
  {
   "cell_type": "code",
   "execution_count": null,
   "id": "4e16c352-7129-475c-8512-f51a4fa48eea",
   "metadata": {},
   "outputs": [],
   "source": [
    "# pip install yagmail\n",
    "# pip install imap_tools"
   ]
  },
  {
   "cell_type": "code",
   "execution_count": null,
   "id": "8e4104a0-cdd2-4216-9f3a-8272b506804c",
   "metadata": {},
   "outputs": [],
   "source": [
    "import os\n",
    "from dotenv import load_dotenv"
   ]
  },
  {
   "cell_type": "code",
   "execution_count": null,
   "id": "2d2b890c-7f1e-490a-a699-ae0eed345783",
   "metadata": {},
   "outputs": [],
   "source": [
    "load_dotenv()"
   ]
  },
  {
   "cell_type": "markdown",
   "id": "3fc7545c-1673-403c-9d61-043e496298bd",
   "metadata": {},
   "source": [
    "#### Работа с почтой"
   ]
  },
  {
   "cell_type": "code",
   "execution_count": null,
   "id": "c25490cf-ae13-4d3d-abfb-7d0e96dc7753",
   "metadata": {},
   "outputs": [],
   "source": [
    "import yagmail\n",
    "from imap_tools import MailBox, AND"
   ]
  },
  {
   "cell_type": "code",
   "execution_count": null,
   "id": "e14a7738-3715-47f4-bf53-cbe95b7e1e84",
   "metadata": {},
   "outputs": [],
   "source": [
    "# Отправка сообщения\n",
    "def send_email(to, subject, body):\n",
    "  yag = yagmail.SMTP(os.environ['EMAIL_LOGIN'], os.environ['EMAIL_PASSWORD'])\n",
    "  yag.send(to, subject, body)"
   ]
  },
  {
   "cell_type": "code",
   "execution_count": null,
   "id": "67e40e83-b615-49cc-a5d5-fe82b593abb8",
   "metadata": {},
   "outputs": [],
   "source": [
    "send_email('antonio.litvinov@gmail.com', 'Тестовое письмо', 'Тело письма')"
   ]
  },
  {
   "cell_type": "code",
   "execution_count": null,
   "id": "0f71be6e-f7e0-48ff-9da2-71a8ced4d2fe",
   "metadata": {},
   "outputs": [],
   "source": [
    "# Получение сообщений\n",
    "def fetch_emails(limit: int = 10, unread_only: bool = False):\n",
    "    result = []\n",
    "    search_criteria = AND(seen=False) if unread_only else AND(all=True)\n",
    "\n",
    "    with MailBox('imap.gmail.com').login(os.environ['EMAIL_LOGIN'], os.environ['EMAIL_PASSWORD']) as mailbox:\n",
    "        for msg in mailbox.fetch(search_criteria, limit=limit):\n",
    "            result.append({\n",
    "                \"from\": msg.from_,\n",
    "                \"subject\": msg.subject,\n",
    "                \"text\": msg.text\n",
    "            })\n",
    "\n",
    "    return result"
   ]
  },
  {
   "cell_type": "code",
   "execution_count": null,
   "id": "c2c90d3f-e2ba-4357-814f-388ad188dca5",
   "metadata": {},
   "outputs": [],
   "source": [
    "# Печать сообщений\n",
    "def print_emails(email_list):\n",
    "    for msg in email_list:\n",
    "        print(f\"From: {msg['from']}\")\n",
    "        print(f\"Subject: {msg['subject']}\")\n",
    "        print(\"=\" * 50)"
   ]
  },
  {
   "cell_type": "code",
   "execution_count": null,
   "id": "2cfdce08-6e5e-4ed9-a175-18b6bb7188b8",
   "metadata": {},
   "outputs": [],
   "source": [
    "print_emails(fetch_emails())"
   ]
  },
  {
   "cell_type": "markdown",
   "id": "e0455393-9d3c-458c-9af9-22dc7f8dbdbc",
   "metadata": {},
   "source": [
    "#### Заполнение базы данных фильмов"
   ]
  },
  {
   "cell_type": "code",
   "execution_count": null,
   "id": "47e7a39d-578d-438e-bf36-2138f9b40e43",
   "metadata": {},
   "outputs": [],
   "source": [
    "import pandas as pd\n",
    "import psycopg2"
   ]
  },
  {
   "cell_type": "code",
   "execution_count": null,
   "id": "4c302eed-6cf5-4893-a463-197511004762",
   "metadata": {},
   "outputs": [],
   "source": [
    "def fill_database(filename: str):\n",
    "    # Загрузка CSV-файла\n",
    "    df = pd.read_csv(filename, sep=\"\\t\")\n",
    "\n",
    "    # Подключение к базе данных\n",
    "    connection = psycopg2.connect(\n",
    "        user=os.getenv('DB_USER', ''),\n",
    "        password=os.getenv('DB_PASSWORD', ''),\n",
    "        host=os.getenv('DB_HOST', ''),\n",
    "        port=os.getenv('DB_PORT', ''),\n",
    "        database=os.getenv('DB_NAME', '')\n",
    "    )\n",
    "    \n",
    "    cursor = connection.cursor()\n",
    "\n",
    "    # Вставка строк в таблицу\n",
    "    for _, row in df.iterrows():\n",
    "        cursor.execute(\"\"\"\n",
    "            INSERT INTO movies (title, type, year, genre, rating)\n",
    "            VALUES (%s, %s, %s, %s, %s)\n",
    "        \"\"\", (row['Название'], row['Тип'], row['Год'], row['Жанр'], row['Рейтинг']))\n",
    "\n",
    "    connection.commit()\n",
    "    cursor.close()\n",
    "    connection.close()"
   ]
  },
  {
   "cell_type": "markdown",
   "id": "fb205898-d8c6-4052-822d-93e95975b472",
   "metadata": {},
   "source": [
    "#### Получение списка файлов с NAS"
   ]
  },
  {
   "cell_type": "code",
   "execution_count": null,
   "id": "b30ff535-0f55-4719-ad85-cfbe0f9f6cff",
   "metadata": {},
   "outputs": [],
   "source": [
    "from synology_api import filestation, downloadstation"
   ]
  },
  {
   "cell_type": "code",
   "execution_count": null,
   "id": "11bdccab-fe66-4fdb-aa9a-33290e268e6e",
   "metadata": {},
   "outputs": [],
   "source": [
    "#nas.get_info()\n",
    "#nas.get_list_share()\n",
    "#nas.get_file_list(\"/video\")\n",
    "\n",
    "def get_file_list(folder: str):\n",
    "\n",
    "    user = os.environ['NAS_USER']\n",
    "    password = os.environ['NAS_PASSWORD']\n",
    "    host = os.environ['NAS_HOST']\n",
    "    port = os.environ['NAS_PORT']\n",
    "    \n",
    "    nas = filestation.FileStation(host, port, user, password,\n",
    "                                  secure=False, cert_verify=False, dsm_version=7, debug=True, otp_code=None)\n",
    "  \n",
    "    files = nas.get_file_list(folder)\n",
    "    file_names = [file['name'] for file in files['data']['files']]\n",
    "    return file_names"
   ]
  },
  {
   "cell_type": "code",
   "execution_count": null,
   "id": "63609a18-eb40-4f37-b0a0-6d2489e5949c",
   "metadata": {},
   "outputs": [],
   "source": [
    "get_file_list('/video')"
   ]
  }
 ],
 "metadata": {
  "kernelspec": {
   "display_name": "Python 3 (ipykernel)",
   "language": "python",
   "name": "python3"
  },
  "language_info": {
   "codemirror_mode": {
    "name": "ipython",
    "version": 3
   },
   "file_extension": ".py",
   "mimetype": "text/x-python",
   "name": "python",
   "nbconvert_exporter": "python",
   "pygments_lexer": "ipython3",
   "version": "3.13.4"
  }
 },
 "nbformat": 4,
 "nbformat_minor": 5
}
